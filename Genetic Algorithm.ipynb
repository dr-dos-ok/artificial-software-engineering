{
 "cells": [
  {
   "cell_type": "code",
   "execution_count": 1,
   "metadata": {},
   "outputs": [],
   "source": [
    "import numpy as np\n",
    "import matplotlib.pyplot as plt\n",
    "%matplotlib inline"
   ]
  },
  {
   "cell_type": "code",
   "execution_count": 2,
   "metadata": {},
   "outputs": [],
   "source": [
    "symbol_table = [\"a\", \"b\", \"x\", \"y\", \"sum\", \"min\"]\n",
    "var_names = [1,2,3,4,5,6] \n",
    "sentences = [9.0603, 9.0604]\n",
    "exprs = [3.0304]\n",
    "main = [0.1,0.2,11.010205, 1.05, 0.3,0.4, 21.010102, 1.6]\n",
    "target_gene = np.array(main + exprs + sentences)"
   ]
  },
  {
   "cell_type": "code",
   "execution_count": 3,
   "metadata": {},
   "outputs": [
    {
     "data": {
      "text/plain": [
       "array([ 0.1     ,  0.2     , 11.010205,  1.05    ,  0.3     ,  0.4     ,\n",
       "       21.010102,  1.6     ,  3.0304  ,  9.0603  ,  9.0604  ])"
      ]
     },
     "execution_count": 3,
     "metadata": {},
     "output_type": "execute_result"
    }
   ],
   "source": [
    "target_gene"
   ]
  },
  {
   "cell_type": "code",
   "execution_count": null,
   "metadata": {},
   "outputs": [],
   "source": []
  },
  {
   "cell_type": "code",
   "execution_count": 4,
   "metadata": {},
   "outputs": [],
   "source": [
    "def interpret_expr(ex, symbols):\n",
    "    # less than\n",
    "    if str(ex).startswith(\"3.\"):\n",
    "        frac = str(ex).split(\".\")[1]\n",
    "        parts = frac.strip().split(\"0\")\n",
    "        return(symbols[int(parts[1])-1] + \" < \" + symbols[int(parts[2])-1] )\n",
    "\n",
    "def interpret_stmnt(stmnt, symbols):\n",
    "    # assignment\n",
    "    if str(stmnt).startswith(\"9.\"):\n",
    "        frac = str(stmnt).split(\".\")[1]\n",
    "        parts = frac.strip().split(\"0\")\n",
    "        return(\"\" + symbols[int(parts[1])-1] + \" = \" + symbols[int(parts[2])-1] )\n",
    "\n",
    "def interpret(target, symbols, mainsize, exprsize):\n",
    "    for i in range(mainsize):\n",
    "        node = str(target[i])\n",
    "        #input\n",
    "        if node.startswith(\"0.\"):\n",
    "            the_var=symbols[int(node.split(\".\")[1]) -1]\n",
    "            print(\"\"+the_var+ \" = int.Parse(Console.ReadLine());\")\n",
    "        # output\n",
    "        elif node.startswith(\"1.\"):\n",
    "            the_var=symbols[int(node.split(\".\")[1]) -1]\n",
    "            print(\"Console.WriteLine(\"+the_var+\");\")\n",
    "        # addition statement\n",
    "        elif node.startswith(\"11.\"):\n",
    "            frac = node.split(\".\")[1]\n",
    "            parts = frac.strip().split(\"0\")\n",
    "            print(symbols[int(parts[3])-1] +\" = \" + symbols[int(parts[1])-1] + \" + \" + symbols[int(parts[2])-1] +\";\")\n",
    "        # if else statement\n",
    "        elif node.startswith(\"21.\"):\n",
    "            ifelse = node.split(\".\")[1]\n",
    "            parts = ifelse.strip().split(\"0\")\n",
    "            #condition\n",
    "            expr= (target [mainsize + int(parts[1]) -1])\n",
    "            if_body = target [mainsize + exprsize + int(parts[1])-1 ]\n",
    "            else_body = target [mainsize + exprsize + int(parts[2]) ]\n",
    "            \n",
    "            print(\"if ( \" + interpret_expr(expr,symbols ) + \" )\")\n",
    "            print(\"\\t \" + interpret_stmnt(if_body,symbols ) + \" ;\")\n",
    "            print(\"else\")\n",
    "            print(\"\\t \" + interpret_stmnt(else_body,symbols ) + \" ;\")"
   ]
  },
  {
   "cell_type": "code",
   "execution_count": 5,
   "metadata": {},
   "outputs": [
    {
     "name": "stdout",
     "output_type": "stream",
     "text": [
      "a = int.Parse(Console.ReadLine());\n",
      "b = int.Parse(Console.ReadLine());\n",
      "sum = a + b;\n",
      "Console.WriteLine(sum);\n",
      "x = int.Parse(Console.ReadLine());\n",
      "y = int.Parse(Console.ReadLine());\n",
      "if ( x < y )\n",
      "\t min = x ;\n",
      "else\n",
      "\t min = y ;\n",
      "Console.WriteLine(min);\n"
     ]
    }
   ],
   "source": [
    "interpret(target_gene, symbol_table, len(main), len(exprs))"
   ]
  },
  {
   "cell_type": "markdown",
   "metadata": {},
   "source": [
    "# Genotype\n",
    " - 15 numbers to create that face"
   ]
  },
  {
   "cell_type": "code",
   "execution_count": 6,
   "metadata": {},
   "outputs": [
    {
     "data": {
      "text/plain": [
       "array([ 0.1     ,  0.2     , 11.010205,  1.05    ,  0.3     ,  0.4     ,\n",
       "       21.010102,  1.6     ,  3.0304  ,  9.0603  ,  9.0604  ])"
      ]
     },
     "execution_count": 6,
     "metadata": {},
     "output_type": "execute_result"
    }
   ],
   "source": [
    "target_gene"
   ]
  },
  {
   "cell_type": "code",
   "execution_count": 7,
   "metadata": {},
   "outputs": [
    {
     "name": "stdout",
     "output_type": "stream",
     "text": [
      "11\n"
     ]
    }
   ],
   "source": [
    "m = len(target_gene)\n",
    "print(m)"
   ]
  },
  {
   "cell_type": "code",
   "execution_count": 8,
   "metadata": {},
   "outputs": [],
   "source": [
    "def create_gene(M = m):\n",
    "    return np.random.rand(m) * 10"
   ]
  },
  {
   "cell_type": "code",
   "execution_count": 9,
   "metadata": {},
   "outputs": [
    {
     "data": {
      "text/plain": [
       "array([7.39434982, 4.56418435, 4.71491331, 3.22669764, 9.40855565,\n",
       "       6.91198229, 0.30578922, 7.06603527, 8.81956178, 9.4379009 ,\n",
       "       7.22438908])"
      ]
     },
     "execution_count": 9,
     "metadata": {},
     "output_type": "execute_result"
    }
   ],
   "source": [
    "my_gene = create_gene()\n",
    "my_gene"
   ]
  },
  {
   "cell_type": "code",
   "execution_count": 10,
   "metadata": {},
   "outputs": [],
   "source": [
    "#interpret(my_gene, symbol_table, len(main), len(exprs))"
   ]
  },
  {
   "cell_type": "markdown",
   "metadata": {},
   "source": [
    "# Fitness\n",
    " - How sucessful the gene of the agent\n",
    " - Euclidean Distance measures the error\n",
    " - similarity (fitness) is the inverse of distance\n",
    " \n",
    "$$ Fitness(v) = \\frac{1}{1 + dist(v, target)} $$\n",
    "    "
   ]
  },
  {
   "cell_type": "code",
   "execution_count": 11,
   "metadata": {},
   "outputs": [],
   "source": [
    "def fitness(v):\n",
    "    error = (target_gene - v)\n",
    "    return 1 / (1 + np.dot(error, error))"
   ]
  },
  {
   "cell_type": "code",
   "execution_count": 12,
   "metadata": {},
   "outputs": [
    {
     "data": {
      "text/plain": [
       "0.001353971330481525"
      ]
     },
     "execution_count": 12,
     "metadata": {},
     "output_type": "execute_result"
    }
   ],
   "source": [
    "fitness(my_gene)"
   ]
  },
  {
   "cell_type": "code",
   "execution_count": 13,
   "metadata": {},
   "outputs": [
    {
     "data": {
      "text/plain": [
       "1.0"
      ]
     },
     "execution_count": 13,
     "metadata": {},
     "output_type": "execute_result"
    }
   ],
   "source": [
    "fitness(target_gene)"
   ]
  },
  {
   "cell_type": "markdown",
   "metadata": {},
   "source": [
    "# Population"
   ]
  },
  {
   "cell_type": "code",
   "execution_count": 14,
   "metadata": {},
   "outputs": [],
   "source": [
    "N = 4\n",
    "population = {i:create_gene() for i in range(N)}"
   ]
  },
  {
   "cell_type": "code",
   "execution_count": 15,
   "metadata": {},
   "outputs": [
    {
     "data": {
      "text/plain": [
       "{0: array([5.78849115, 3.76150704, 4.40412046, 2.989582  , 8.99934415,\n",
       "        9.375933  , 0.91367724, 6.15234244, 5.12081951, 0.9319809 ,\n",
       "        1.57459034]),\n",
       " 1: array([9.51166646, 3.91787665, 5.52591476, 3.77439559, 0.65303144,\n",
       "        4.67008523, 7.14310837, 9.19752136, 7.78963492, 6.85599168,\n",
       "        8.3416246 ]),\n",
       " 2: array([5.61984843, 6.41753452, 0.2514747 , 5.02263744, 8.31624748,\n",
       "        7.35557431, 9.93317316, 0.29043832, 0.0259522 , 4.55666829,\n",
       "        7.17111667]),\n",
       " 3: array([1.72435121, 8.86972204, 9.33354705, 6.67664675, 5.03988878,\n",
       "        4.20375096, 4.83869414, 5.792741  , 2.21168607, 0.81605688,\n",
       "        6.230732  ])}"
      ]
     },
     "execution_count": 15,
     "metadata": {},
     "output_type": "execute_result"
    }
   ],
   "source": [
    "population"
   ]
  },
  {
   "cell_type": "code",
   "execution_count": 16,
   "metadata": {},
   "outputs": [],
   "source": [
    "N = 10\n",
    "population = {i:create_gene() for i in range(N)}\n",
    "\n",
    "#fig = plt.figure()\n",
    "#for i in range(10):\n",
    "#    plt.subplot(2, 5, i+1)\n",
    "#    draw_face(population[i])"
   ]
  },
  {
   "cell_type": "markdown",
   "metadata": {},
   "source": [
    "# Selection\n",
    " - who are the successful agents"
   ]
  },
  {
   "cell_type": "code",
   "execution_count": 17,
   "metadata": {},
   "outputs": [],
   "source": [
    "success = {agent_id: fitness(agent_genome) for agent_id, agent_genome in population.items()}"
   ]
  },
  {
   "cell_type": "code",
   "execution_count": 18,
   "metadata": {},
   "outputs": [
    {
     "data": {
      "text/plain": [
       "{0: 0.001705321224241095,\n",
       " 1: 0.002222435490705757,\n",
       " 2: 0.0020716696644444443,\n",
       " 3: 0.0015467511944260047,\n",
       " 4: 0.0019878813807209217,\n",
       " 5: 0.001781237904129836,\n",
       " 6: 0.0024074777359093646,\n",
       " 7: 0.001550581148437278,\n",
       " 8: 0.0015016157338796838,\n",
       " 9: 0.00151632926806612}"
      ]
     },
     "execution_count": 18,
     "metadata": {},
     "output_type": "execute_result"
    }
   ],
   "source": [
    "success"
   ]
  },
  {
   "cell_type": "code",
   "execution_count": 19,
   "metadata": {},
   "outputs": [
    {
     "data": {
      "text/plain": [
       "0.018291300744960506"
      ]
     },
     "execution_count": 19,
     "metadata": {},
     "output_type": "execute_result"
    }
   ],
   "source": [
    "total_success = sum(success.values())\n",
    "total_success"
   ]
  },
  {
   "cell_type": "code",
   "execution_count": 20,
   "metadata": {},
   "outputs": [],
   "source": [
    "reproduction_probability = {agent_id: success[agent_id]/total_success for agent_id in success.keys()}"
   ]
  },
  {
   "cell_type": "code",
   "execution_count": 21,
   "metadata": {
    "scrolled": true
   },
   "outputs": [
    {
     "data": {
      "text/plain": [
       "{0: 0.09323127141250101,\n",
       " 1: 0.1215023207859106,\n",
       " 2: 0.11325983282053992,\n",
       " 3: 0.0845621214145831,\n",
       " 4: 0.1086790605238181,\n",
       " 5: 0.09738169684955787,\n",
       " 6: 0.13161872791210086,\n",
       " 7: 0.08477150805496889,\n",
       " 8: 0.08209452978861542,\n",
       " 9: 0.08289893043740416}"
      ]
     },
     "execution_count": 21,
     "metadata": {},
     "output_type": "execute_result"
    }
   ],
   "source": [
    "reproduction_probability"
   ]
  },
  {
   "cell_type": "code",
   "execution_count": 22,
   "metadata": {},
   "outputs": [
    {
     "data": {
      "text/plain": [
       "array([6, 2])"
      ]
     },
     "execution_count": 22,
     "metadata": {},
     "output_type": "execute_result"
    }
   ],
   "source": [
    "pr = [reproduction_probability[agent_id] for agent_id in range(N)]\n",
    "select = np.random.choice(N, 2, replace= False, p=pr)\n",
    "select"
   ]
  },
  {
   "cell_type": "code",
   "execution_count": 23,
   "metadata": {},
   "outputs": [],
   "source": [
    "def selection(population):\n",
    "    success = {agent_id: fitness(agent_genome) for agent_id, agent_genome in population.items()}\n",
    "    total_success = sum(success.values())\n",
    "    reproduction_probability = {agent_id: success[agent_id]/total_success for agent_id in success.keys()}\n",
    "    pr = [reproduction_probability[agent_id] for agent_id in range(N)]\n",
    "    select = np.random.choice(N, 2, replace= False, p=pr)\n",
    "    return select"
   ]
  },
  {
   "cell_type": "code",
   "execution_count": 24,
   "metadata": {},
   "outputs": [
    {
     "data": {
      "text/plain": [
       "array([8, 2])"
      ]
     },
     "execution_count": 24,
     "metadata": {},
     "output_type": "execute_result"
    }
   ],
   "source": [
    "selection(population)"
   ]
  },
  {
   "cell_type": "markdown",
   "metadata": {},
   "source": [
    "# Crossover"
   ]
  },
  {
   "cell_type": "code",
   "execution_count": 25,
   "metadata": {},
   "outputs": [],
   "source": [
    "parent0 = population[select[0]]\n",
    "parent1 = population[select[1]]"
   ]
  },
  {
   "cell_type": "code",
   "execution_count": 26,
   "metadata": {},
   "outputs": [
    {
     "data": {
      "text/plain": [
       "array([6.09095497, 9.09133731, 3.61564838, 2.61203008, 0.26448802,\n",
       "       5.69960388, 8.18415864, 5.36572863, 7.14681204, 5.90394748,\n",
       "       6.12345466])"
      ]
     },
     "execution_count": 26,
     "metadata": {},
     "output_type": "execute_result"
    }
   ],
   "source": [
    "parent0"
   ]
  },
  {
   "cell_type": "code",
   "execution_count": 27,
   "metadata": {},
   "outputs": [
    {
     "data": {
      "text/plain": [
       "array([7.39520326, 5.89464859, 1.86232157, 0.79353257, 1.19541945,\n",
       "       8.40951944, 9.1530269 , 4.29353592, 7.17542132, 0.02112704,\n",
       "       8.27523346])"
      ]
     },
     "execution_count": 27,
     "metadata": {},
     "output_type": "execute_result"
    }
   ],
   "source": [
    "parent1"
   ]
  },
  {
   "cell_type": "code",
   "execution_count": 28,
   "metadata": {},
   "outputs": [],
   "source": [
    "cut = np.random.randint(m)\n",
    "\n",
    "child0 = np.hstack((parent0[:cut],parent1[cut:]))\n",
    "child1 = np.hstack((parent1[:cut],parent0[cut:]))"
   ]
  },
  {
   "cell_type": "code",
   "execution_count": 29,
   "metadata": {},
   "outputs": [
    {
     "data": {
      "text/plain": [
       "array([6.09095497, 9.09133731, 1.86232157, 0.79353257, 1.19541945,\n",
       "       8.40951944, 9.1530269 , 4.29353592, 7.17542132, 0.02112704,\n",
       "       8.27523346])"
      ]
     },
     "execution_count": 29,
     "metadata": {},
     "output_type": "execute_result"
    }
   ],
   "source": [
    "child0"
   ]
  },
  {
   "cell_type": "code",
   "execution_count": 30,
   "metadata": {},
   "outputs": [
    {
     "data": {
      "text/plain": [
       "array([7.39520326, 5.89464859, 3.61564838, 2.61203008, 0.26448802,\n",
       "       5.69960388, 8.18415864, 5.36572863, 7.14681204, 5.90394748,\n",
       "       6.12345466])"
      ]
     },
     "execution_count": 30,
     "metadata": {},
     "output_type": "execute_result"
    }
   ],
   "source": [
    "child1"
   ]
  },
  {
   "cell_type": "code",
   "execution_count": 31,
   "metadata": {},
   "outputs": [],
   "source": [
    "def crossover(selectedParents):\n",
    "    parent0 = population[selectedParents[0]]\n",
    "    parent1 = population[selectedParents[1]]\n",
    "    \n",
    "    cut = np.random.randint(m)\n",
    "    child0 = np.hstack((parent0[:cut],parent1[cut:]))\n",
    "    child1 = np.hstack((parent1[:cut],parent0[cut:]))\n",
    "    return child0, child1"
   ]
  },
  {
   "cell_type": "code",
   "execution_count": 32,
   "metadata": {},
   "outputs": [
    {
     "data": {
      "text/plain": [
       "(array([6.09095497, 9.09133731, 3.61564838, 2.61203008, 0.26448802,\n",
       "        5.69960388, 9.1530269 , 4.29353592, 7.17542132, 0.02112704,\n",
       "        8.27523346]),\n",
       " array([7.39520326, 5.89464859, 1.86232157, 0.79353257, 1.19541945,\n",
       "        8.40951944, 8.18415864, 5.36572863, 7.14681204, 5.90394748,\n",
       "        6.12345466]))"
      ]
     },
     "execution_count": 32,
     "metadata": {},
     "output_type": "execute_result"
    }
   ],
   "source": [
    "crossover(select)"
   ]
  },
  {
   "cell_type": "markdown",
   "metadata": {},
   "source": [
    "# Mutation"
   ]
  },
  {
   "cell_type": "code",
   "execution_count": 33,
   "metadata": {},
   "outputs": [],
   "source": [
    "def mutation(child, p = 0.05):\n",
    "    mutation_point = np.random.randint(len(child))\n",
    "    if np.random.rand() < p:\n",
    "        child[mutation_point] = np.random.rand() * 10\n",
    "    return child\n",
    "    "
   ]
  },
  {
   "cell_type": "code",
   "execution_count": 34,
   "metadata": {},
   "outputs": [
    {
     "data": {
      "text/plain": [
       "array([6.09095497, 9.09133731, 7.32446473, 0.79353257, 1.19541945,\n",
       "       8.40951944, 9.1530269 , 4.29353592, 7.17542132, 0.02112704,\n",
       "       8.27523346])"
      ]
     },
     "execution_count": 34,
     "metadata": {},
     "output_type": "execute_result"
    }
   ],
   "source": [
    "mutation(child0, p = 0.995)"
   ]
  },
  {
   "cell_type": "code",
   "execution_count": null,
   "metadata": {},
   "outputs": [],
   "source": []
  }
 ],
 "metadata": {
  "kernelspec": {
   "display_name": "Python 3",
   "language": "python",
   "name": "python3"
  },
  "language_info": {
   "codemirror_mode": {
    "name": "ipython",
    "version": 3
   },
   "file_extension": ".py",
   "mimetype": "text/x-python",
   "name": "python",
   "nbconvert_exporter": "python",
   "pygments_lexer": "ipython3",
   "version": "3.7.1"
  }
 },
 "nbformat": 4,
 "nbformat_minor": 2
}
